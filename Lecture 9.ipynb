{
 "cells": [
  {
   "cell_type": "markdown",
   "metadata": {},
   "source": [
    "## Columbia IEOR 4601 Dynamic Pricing & Revenue Management\n",
    "###  Lecture 9 (Feb. 19, 2019)"
   ]
  },
  {
   "cell_type": "markdown",
   "metadata": {},
   "source": [
    "#### MNL and Independence of Irrelevant Alternatives (IIA)\n",
    "\n",
    "Assuming there are 2 objects, red (R) and blue (B). Half of the population like R, and the other half like B. In order to use MNL, we need to assign utility to R and B. Let's use equal utility, such that $v_R = v_B = 1$. With the above setting, then the probability to choose object B is $P(B) = \\frac{v_B}{v_B + v_R}$"
   ]
  },
  {
   "cell_type": "markdown",
   "metadata": {},
   "source": [
    "Now let's introduce a new shade of red, R'. Now we have three choices. Let's say we also find out the population perference of the three colors, from a survey, are:\n",
    "* R' > R > B: 0.25\n",
    "* R > R' > B: 0.25\n",
    "* B > R > R': 0.25\n",
    "* B > R' > R: 0.25\n",
    "* R > B > R': 0\n",
    "* R' > B > R: 0\n",
    "\n",
    "That means, people like red before still like red, and blue still blue. "
   ]
  },
  {
   "cell_type": "markdown",
   "metadata": {},
   "source": [
    "Under MNL, we need to assign a value to $v_{R'}$, and from the previous preference result, we need to assign $v_{R'} = 1$. So $P(R')$ will be $1/3$, so are $P(R)$ and $P(B)$. So here is the the clear contradition, since from the survey result tells us that $P(R) = P(R') = 1/4$, and $P(B) = 1/2$. "
   ]
  },
  {
   "cell_type": "markdown",
   "metadata": {},
   "source": [
    "Let's define IIA: $\\frac{P(i | S)}{P(j | S)}$ does **not** change with different $S$, where $S$ is the set of all available choices. This assumption breaks down for MNL, and that's why the previous contradiction."
   ]
  },
  {
   "cell_type": "markdown",
   "metadata": {},
   "source": [
    "#### Nested MNL (NMNL)\n",
    "\n",
    "* There are $n$ products, indexed by 1, 2, ..., n\n",
    "* The products are partitioned to disjoin \"nests\", $S_1, S_2, ..., S_k$. \n",
    "* An assortment contains some products from each nest. \n",
    "* The model will contain (1) a dissimilarity parameter $\\gamma \\in (0, 1]$, and (2) attraction parameters $v_1, ..., v_n$. The latter is similar to MNL.\n",
    "* We will define the attraction of a nest is the sum of the attractions of all the products in the nest, That is $v(S_l) = \\sum_{i \\in S_l} v_i$."
   ]
  },
  {
   "cell_type": "markdown",
   "metadata": {},
   "source": [
    "Now let's define NMNL formerly: given $S_1 \\cup S_2 \\cup ... \\cup S_k$, a customer chooses $i \\in S_l$ with probability of \n",
    "$$\\frac{[v(S_l)]^\\gamma}{1 + \\sum_{i=1}^k [v(S_i)]^\\gamma} \\frac{v_i}{1 + v(S_l)}$$"
   ]
  },
  {
   "cell_type": "markdown",
   "metadata": {},
   "source": [
    "$\\gamma = 1$ is the case where all the nests are treated the same. If we nest by brand, that means all the brands are treated the same by customers, that's the same as MNL. when $\\gamma$ is close to zero, that gives us more power to differentiate different products.\n",
    "\n",
    "This is a two stage process: in the first stage we choose which nest we want, and in the second stage we choose from that nest, which product to choose."
   ]
  },
  {
   "cell_type": "markdown",
   "metadata": {},
   "source": [
    "#### Example 1\n",
    "\n",
    "$N = \\{R', R, B\\}$. A natural way to setup the nests are $S_1 = \\{R', R\\}, S_2 = \\{B\\}$. We can still have $v_{R'} = v_R = v_B = 1$, and let's have $\\gamma = 0.5$. "
   ]
  },
  {
   "cell_type": "markdown",
   "metadata": {},
   "source": [
    "Let's apply NMNL to this case. $P(R | \\{R', R, B\\}) = \\frac{2^{0.5}}{1 + (2^{0.5} + 1^0.5)} \\frac{1}{1 + 1} \\sim 0.29$. Similarily, we have $P(R') \\sim 0.29, P(B) \\sim 0.414$."
   ]
  },
  {
   "cell_type": "markdown",
   "metadata": {},
   "source": [
    "#### Example 2\n",
    "\n",
    "We have the same parameters to Example 1, except for that $\\gamma = 1/4$. Plugging in the equations, we have $P(R) \\sim 0.27, P(R') \\sim 0.27, P(B) \\sim 0.46$"
   ]
  },
  {
   "cell_type": "code",
   "execution_count": null,
   "metadata": {},
   "outputs": [],
   "source": []
  }
 ],
 "metadata": {
  "kernelspec": {
   "display_name": "Python 3",
   "language": "python",
   "name": "python3"
  },
  "language_info": {
   "codemirror_mode": {
    "name": "ipython",
    "version": 3
   },
   "file_extension": ".py",
   "mimetype": "text/x-python",
   "name": "python",
   "nbconvert_exporter": "python",
   "pygments_lexer": "ipython3",
   "version": "3.6.8"
  }
 },
 "nbformat": 4,
 "nbformat_minor": 2
}

{
 "cells": [
  {
   "cell_type": "markdown",
   "metadata": {},
   "source": [
    "## Columbia IEOR 4601 Dynamic Pricing & Revenue Management\n",
    "###  Lecture 7 (Feb. 12, 2019)"
   ]
  },
  {
   "cell_type": "markdown",
   "metadata": {},
   "source": [
    "#### Recall MNL (multinomial logistic)\n",
    "\n",
    "* There are $n$ subsituble products.\n",
    "* The products have attribute vectors $x_1, x_2, ..., x_n$.\n",
    "* expected utility of product $i$ is $u_i = \\beta ^T x_i$. Actual utility is $u_i + \\epsilon_i$, where $\\epsilon$ is a standard [Gumbel](https://en.wikipedia.org/wiki/Gumbel_distribution). \n",
    "* Expected utility of no purchase is $u_0 = 0$."
   ]
  },
  {
   "cell_type": "markdown",
   "metadata": {},
   "source": [
    "Assortment optimization: what subset of products in {1, 2, ..., n} should be offered to maximize revenue (see notes)"
   ]
  },
  {
   "cell_type": "markdown",
   "metadata": {},
   "source": [
    "This is a combinatorial problem. The rest of the lecture will be how to solve this optimization problem."
   ]
  },
  {
   "cell_type": "markdown",
   "metadata": {},
   "source": [
    "#### Binary search algorithm\n",
    "\n",
    "![Alt text](asset/lecture_7_notes_1.png)\n",
    "![Alt text](asset/lecture_7_notes_2.png)"
   ]
  },
  {
   "cell_type": "markdown",
   "metadata": {},
   "source": [
    "#### Direct algorithm\n",
    "\n",
    "* Recall that if $p_1 \\geq p_2, ..., p_n$, then $S^* = [k]$ is a **revenue ordered set**, for some k.\n",
    "* So we would search through $[1], [2], ..., [n]$.\n",
    "* Let's say we are now at $S = [k-1]$, and are considering $[k]$. \n",
    "* Notice that, $R([k]) = \\sum_1^k \\frac{p_i v_i}{1 + \\sum_1^k v_i}$. We can break it down to $\\sum_1^{k-1} \\frac{p_i v_i}{1 + \\sum_1^k v_i} + \\frac{p_k v_k}{1 + \\sum_1^k v_i}$. Let's do something about the denominator, such that we will have \n",
    "$$R([k]) = R([k-1]) \\frac{1 + \\sum_1^{k-1}v_i}{1 + \\sum_1^{k}v_i} + p_k \\frac{v_k}{1 + \\sum_1^{k}v_i}$$.\n",
    "* This is a convex set, such that $R([k])$ lies between $R([k-1])$ and $p_k$. Since we are maximizing $R$, so if $p_k$ is less then $R([k-1])$, there is no need to proceed. \n",
    "* That means, if $p_k \\gt R([k-1])$, then it is beneficial to add product $k$. Otherwise, adding $k$ causes loss. So we will stop. "
   ]
  },
  {
   "cell_type": "markdown",
   "metadata": {},
   "source": [
    "#### Conclusion\n",
    "\n",
    "Looking through all subsets is a NP-hard problem. by looking at revenue order set $[k]$, we reduce it to a binary search, or linear problem. "
   ]
  },
  {
   "cell_type": "markdown",
   "metadata": {},
   "source": [
    "A good reference [here](https://www.bauer.uh.edu/rsusmel/phd/phdeconom2.htm)."
   ]
  },
  {
   "cell_type": "code",
   "execution_count": null,
   "metadata": {},
   "outputs": [],
   "source": []
  }
 ],
 "metadata": {
  "kernelspec": {
   "display_name": "Python 3",
   "language": "python",
   "name": "python3"
  },
  "language_info": {
   "codemirror_mode": {
    "name": "ipython",
    "version": 3
   },
   "file_extension": ".py",
   "mimetype": "text/x-python",
   "name": "python",
   "nbconvert_exporter": "python",
   "pygments_lexer": "ipython3",
   "version": "3.6.8"
  }
 },
 "nbformat": 4,
 "nbformat_minor": 2
}

{
 "cells": [
  {
   "cell_type": "markdown",
   "metadata": {},
   "source": [
    "## Columbia IEOR 4601 Dynamic Pricing & Revenue Management\n",
    "###  Lecture 4 (Feb. 5, 2019)"
   ]
  },
  {
   "cell_type": "markdown",
   "metadata": {},
   "source": [
    "#### Multiple fare classes problem\n",
    "\n",
    "The setup: \n",
    "\n",
    "* There are $C$ seats\n",
    "* There are $k$ fare classes, that $p_1 > p_2 > ... > p_k$. \n",
    "* The demand for class $j$ (customers who pay fare $p_j$) follows demand function $D_j$. \n",
    "* The classes arrive in order $k, k-1, ..., 1$. The highest fare class ($1$) comes last.\n",
    "\n",
    "**The decision for the airline is to decide the number of seats $y_j$ to reserve for classes $1, ..., j, ..., k$.**"
   ]
  },
  {
   "cell_type": "markdown",
   "metadata": {},
   "source": [
    "#### Dynamic Programming (DP) Foundation\n",
    "\n",
    "We do things from the beginning.\n",
    "* When class $k$ arrives with demand $D_k$, the total revenue we can make is $$p_k \\min{(C - y_{k}, D_k)}.$$ $y_{k}$ is the *accumulated* seats reserved, up to class $k-1$. We can not sell more seats than available (the former), nor more seats than demand (the latter).\n",
    "\n",
    "* When class $k-1$ arrives, with demand $D_{k-1}$, we have reserved seats $y_{k-1} - y_{k-2}$ for this class, but we might also have seats available if we haven't sold all the seats reserved for class $k$. Therefore, the total seats we can sell for class $k-1$ is $\\max{(y_{k-1} - y_{k-2}, C - y_{k-2} - D_{k-1})}$. The latter corresponds to the case that the reserved seats for class $k$ is not totally fulfilled. Therefore, the total revenue for class $k-1$ will be $$p_{k-1} \\max{(y_{k-1} - y_{k-2}, C - y_{k-2} - D_{k-1})}.$$\n",
    "\n",
    "One should be able to spot the recurrance pattern, and set up the DP function."
   ]
  },
  {
   "cell_type": "markdown",
   "metadata": {},
   "source": [
    "Let's define $V_j(y)$ as the expended revenue from class $1$ **to** $j$, when there are $y$ seats reserved for this class. When $j=1$, it is easy: \n",
    "$$V_1(y) = p_1 S_1 =  p_1 E\\min{(D_1, y)}.$$ \n",
    "The $\\min$ is used since we can not sell more seats than demand ($D_1$), nor more seats than allocated ($y$). **Very importantly**, $E\\min{(D_1, y)}$ is the expected number of seats that will be sold for class $j$."
   ]
  },
  {
   "cell_type": "markdown",
   "metadata": {},
   "source": [
    "When $j=2$, we need to know what $y_1$ is, such that we have some seats left for class 2. Therefore, we have seats available for class 2 is \n",
    "$$S_2 = \\min{(D_2, y - y_1)}, $$\n",
    "if we could know its value, then the revenue with 2 classes will be:\n",
    "$$V_2(y) = \\max{[p_2 E S_2 + E V_1(y - S_2)]}.$$"
   ]
  },
  {
   "cell_type": "markdown",
   "metadata": {},
   "source": [
    "The latter is the expected revenue from class below $2$ (in this case, only $1$), with given seats of $y - S_2$ (we used $S_2$ seats for class 2). We will search $y_1$ between $0$ and $y$ for the maximization. The former is the expected revenue from class $2$, and the latter is the expected revenue from class below $2$, which in this case, $1$."
   ]
  },
  {
   "cell_type": "markdown",
   "metadata": {},
   "source": [
    "The assumption that the demands will come in timely order can be easily violated in reality."
   ]
  },
  {
   "cell_type": "markdown",
   "metadata": {},
   "source": [
    "#### Implementation of DP\n",
    "\n",
    "In order to implement DP, we need to know $V_1(1), V_1(2), ..., V_1(C)$, as well as $V_2(1), V_2(2), ..., V_2(C)$, similarily, we need to know $V_k(1), V_k(2), ..., V_k(C)$. In DP, we will fill out this $k \\times C$ table row by row."
   ]
  },
  {
   "cell_type": "raw",
   "metadata": {},
   "source": [
    "Let's go through an example.\n",
    "\n",
    "$C=4, k=3, p_1=200, p_2=150, p_3=100$. The demands are: $D_1 = 0$ or $2$ with probability 0.5 for each, $D_2 = 1$ or $3$ with probability 0.5 for each, $D_3 = 2$ or $4$ with probability 0.5 for each."
   ]
  },
  {
   "cell_type": "markdown",
   "metadata": {},
   "source": [
    "$$V_1(1) = p_1 E\\min{(D_1, 1)} = 200\\times(0 \\times 0.5 + 1 \\times 0.5) = 100$$\n",
    "$$V_1(2) = p_1 E\\min{(D_1, 2)} = 200\\times(0 \\times 0.5 + 2 \\times 0.5) = 200$$\n",
    "$$V_1(3) = p_1 E\\min{(D_1, 3)} = 200\\times(0 \\times 0.5 + 2 \\times 0.5) = 200$$\n",
    "$$V_1(4) = p_1 E\\min{(D_1, 4)} = 200\\times(0 \\times 0.5 + 2 \\times 0.5) = 200$$"
   ]
  },
  {
   "cell_type": "markdown",
   "metadata": {},
   "source": [
    "Now let's move on to $V_2$.\n",
    "$$V_2(1) = ??$$"
   ]
  },
  {
   "cell_type": "markdown",
   "metadata": {},
   "source": [
    "What can we say about the optimal structure? Let $\\delta V_j(y) = V_j(y) - V_j(y-1) \\ge 0$, since it is the marginal revenue from $y-1$ seats to $y$ seats. There are few observations:\n",
    "* Intuitively, $\\delta V_j(y)$ is decreasing in $y$, since otherwise we should just keep increasing number of seats. \n",
    "* The optimal $y^* = \\max{(y | \\delta V_j(y) \\ge p_{j+1})}$. That means, if we have anything larger than it, we should keep selling this higher fare class at $p_{k}$, until its marginal revenue is less than keeping (and selling) it at the lower class fare $p_{k+1}$."
   ]
  },
  {
   "cell_type": "code",
   "execution_count": null,
   "metadata": {},
   "outputs": [],
   "source": []
  }
 ],
 "metadata": {
  "kernelspec": {
   "display_name": "Python 3",
   "language": "python",
   "name": "python3"
  },
  "language_info": {
   "codemirror_mode": {
    "name": "ipython",
    "version": 3
   },
   "file_extension": ".py",
   "mimetype": "text/x-python",
   "name": "python",
   "nbconvert_exporter": "python",
   "pygments_lexer": "ipython3",
   "version": "3.6.8"
  }
 },
 "nbformat": 4,
 "nbformat_minor": 2
}

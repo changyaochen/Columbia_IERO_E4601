{
 "cells": [
  {
   "cell_type": "markdown",
   "metadata": {},
   "source": [
    "## Columbia IEOR 4601 Dynamic Pricing & Revenue Management\n",
    "###  Lecture 10 (Feb. 21, 2019)"
   ]
  },
  {
   "cell_type": "markdown",
   "metadata": {},
   "source": [
    "#### Assortment optimization with NMNL\n",
    "\n",
    "Recall NMNL:\n",
    "* Products 1, 2,..., n, \n",
    "* Nests for $N_1 \\cup N_2 ... \\cup N_k$\n",
    "* Product $\\rho_i$ in nest $l$ has price $r_{l_i}$, and attraction $v_{l_i}$\n",
    "* Dissimilarity parameter $\\gamma \\in (0, 1]$\n",
    "\n",
    "Then $P(\\text{choose} ~\\rho_i | N_1 \\cup N_2 ... \\cup N_k)$ is \n",
    "$$\n",
    "\\frac{[v(N_l)]^\\gamma}{1 + \\sum_{i=1}^k [v(N_i)]^\\gamma} \\frac{v_i}{v(N_l)}\n",
    "$$"
   ]
  },
  {
   "cell_type": "markdown",
   "metadata": {},
   "source": [
    "Assortment optimization problem: how to choose $S_1 \\in N_1, S_2 \\in N_2, ...$, such that the expected revenue from offering $S_1 \\cup S_2 ... \\cup S_k$ is maximized? See note for the equation.\n",
    "\n",
    "![Alt text](asset/lecture_10_notes_1.png)\n",
    "![Alt text](asset/lecture_10_notes_2.png)"
   ]
  },
  {
   "cell_type": "markdown",
   "metadata": {},
   "source": [
    "#### Conditionally constrained optimization under NMNL\n",
    "\n",
    "Motivating example: Lululemon's localizationed assortment optimization (a Youtube link). \n",
    "\n",
    "There are 2 variations: \n",
    "\n",
    "1. $|S_1 \\cup S_2 ... \\cup S_k| \\le K$. That effectively limits the **total** number of itmes.\n",
    "2. $|S_l| \\le K_l$. That effectively limits the size of each nest.\n"
   ]
  },
  {
   "cell_type": "markdown",
   "metadata": {},
   "source": [
    "#### Mixture of MNL (MMNL)\n",
    "\n",
    "* There are $k$ market segments, with probability $\\theta_1, ..., \\theta_k$, and $\\sum \\theta_i = 1$.\n",
    "* Attraction of product $i$ in segement $l$ is $v_{l_i}$.\n",
    "* Provided an assortment $S$, the probability of $P(i | S) = \\sum_{l=1}^k \\theta_i \\frac{v_{l_i}}{1 + \\sum_{j \\in S} v_{l_i}}$\n",
    "\n",
    "MMNL is NP-hard."
   ]
  },
  {
   "cell_type": "code",
   "execution_count": null,
   "metadata": {},
   "outputs": [],
   "source": []
  }
 ],
 "metadata": {
  "kernelspec": {
   "display_name": "Python 3",
   "language": "python",
   "name": "python3"
  },
  "language_info": {
   "codemirror_mode": {
    "name": "ipython",
    "version": 3
   },
   "file_extension": ".py",
   "mimetype": "text/x-python",
   "name": "python",
   "nbconvert_exporter": "python",
   "pygments_lexer": "ipython3",
   "version": "3.6.8"
  }
 },
 "nbformat": 4,
 "nbformat_minor": 2
}
